{
 "cells": [
  {
   "cell_type": "code",
   "execution_count": 11,
   "metadata": {
    "collapsed": false
   },
   "outputs": [],
   "source": [
    "import datetime\n",
    "import urllib # changed from urllib2\n",
    "import simplejson as json # needed to install: pip install simplejson\n",
    "import time\n",
    "import serial\n",
    "from decimal import *\n",
    "import config"
   ]
  },
  {
   "cell_type": "code",
   "execution_count": 4,
   "metadata": {
    "collapsed": true
   },
   "outputs": [],
   "source": [
    "daysInReport = 6\n",
    "readingsToAverage = 4\n",
    "earliestSurfHour=5 #ignore tide times earlier than 5am\n",
    "latestSurfHour=21   #and later than 9pm\n",
    "conditionTypes=[\"\",\"flat\", \"very poor\", \"poor\",\"poor to fair\",\"fair\",\"fair to good\",\"good\",\"very good\",\"good to epic\",\"epic\"]\n",
    "\n",
    "lowTides=[]\n",
    "highTides=[]"
   ]
  },
  {
   "cell_type": "code",
   "execution_count": null,
   "metadata": {
    "collapsed": true
   },
   "outputs": [],
   "source": [
    "# Get tides from Weather underground\n",
    "# Need to pay to get this now!!\n",
    "\n",
    "tideUrl=\"http://api.wunderground.com/api/APIKEY/tide/settings/q/CA/94019.json\"\n",
    "tideUrl=tideUrl.replace(\"APIKEY\",config.wundergroundApiKey)\n",
    "\n",
    "?urllib\n",
    "urllib.request.urlopen(tideUrl)\n",
    "\n",
    "#webreq = urllib.Request(tideUrl)\n",
    "opener = urllib.build_opener()\n",
    "f = opener.open(webreq)\n",
    "fstr = f.read()\n",
    "fstr = fstr.strip() #remove any whitespace in start/end\n",
    "tideReport=json.loads(fstr)\t"
   ]
  },
  {
   "cell_type": "code",
   "execution_count": null,
   "metadata": {
    "collapsed": true
   },
   "outputs": [],
   "source": []
  }
 ],
 "metadata": {
  "kernelspec": {
   "display_name": "Python 3",
   "language": "python",
   "name": "python3"
  },
  "language_info": {
   "codemirror_mode": {
    "name": "ipython",
    "version": 3
   },
   "file_extension": ".py",
   "mimetype": "text/x-python",
   "name": "python",
   "nbconvert_exporter": "python",
   "pygments_lexer": "ipython3",
   "version": "3.5.4"
  }
 },
 "nbformat": 4,
 "nbformat_minor": 0
}
